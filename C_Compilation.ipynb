{
 "cells": [
  {
   "cell_type": "markdown",
   "metadata": {},
   "source": [
    "**Command \"make test\" passed.**\n",
    "\n",
    "~/cw-09-redyellow$ make test\n",
    "\n",
    "make -C test/ test\n",
    "\n",
    "make[1]: Entering directory '/projects/b92529d9-02cf-4e36-bb0a-005b6b62b38e/cw-09-redyellow/test'\n",
    "\n",
    "cc    -c -o ../src/factorial.o ../src/factorial.c\n",
    "\n",
    "cc     test_factorial.c ../src/factorial.o   -o test_factorial\n",
    "\n",
    "./test_factorial\n",
    "\n",
    "ALL TESTS PASSED\n",
    "\n",
    "Tests run: 2\n",
    "\n",
    "make[1]: Leaving directory '/projects/b92529d9-02cf-4e36-bb0a-005b6b62b38e/cw-09-redyellow/test'\n",
    "\n",
    "\n",
    "\n"
   ]
  },
  {
   "cell_type": "markdown",
   "metadata": {
    "collapsed": false
   },
   "source": [
    "**Question 3**\n",
    "\n",
    "**Describe what the purpose of a Makefile is:**\n",
    "\n",
    "Makefile defines a graph of the dependence of source files. Specifically, it guides how we get the object files from source files and header files through c preprocessor and c compiler, and then get the executable files from object files through c linker.\n",
    " \n",
    "**Describe how the code is organized here. Why is this a reasonable structure?**\n",
    "\n",
    "Initially, we have the source file and header file, and the header file can also be implemented in the source file instead of being a seperate file.  Make will use c processor and c compiler to compily them into the object file.  If it defines the dependence of other object files, c linker will link all of these object files together to create the executable file.   \n",
    "\n",
    "This structure is reasonable, because I can understand the program structure without reading the long source file.  Moreover, the whole process would be painful if I need to go through c preprocessor, c complier, and c linker step by step without makefile.  Make makes life easier.\n",
    "\n",
    "**Describe what a header file is.**\n",
    "\n",
    "A header file defines the types for functions that are used in the source file.\n",
    "\n",
    "**Describe what a source file is.**\n",
    "\n",
    "A source file defines all the executable part except types.\n",
    "\n",
    "**Describe what an object file is.**\n",
    "\n",
    "An object file is a compiled file that we get from the source file and header file through c preprocessor and c complier.  The code in an object file is machine code.\n",
    "\n",
    "**Describe what compiling is.**\n",
    "\n",
    "Compiling creates object files that consist of machine code.\n",
    "\n",
    "**Describe what linking is.**\n",
    "\n",
    "Linking is combining the object files together to create the executable file.  It defines the dependence of object files in the makefile.\n"
   ]
  }
 ],
 "metadata": {
  "kernelspec": {
   "display_name": "Python 2 (SageMath)",
   "language": "python",
   "name": "python2"
  },
  "language_info": {
   "codemirror_mode": {
    "name": "ipython",
    "version": 2
   },
   "file_extension": ".py",
   "mimetype": "text/x-python",
   "name": "python",
   "nbconvert_exporter": "python",
   "pygments_lexer": "ipython2",
   "version": "2.7.10"
  }
 },
 "nbformat": 4,
 "nbformat_minor": 0
}
