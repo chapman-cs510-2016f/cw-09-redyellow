{
 "cells": [
  {
   "cell_type": "markdown",
   "metadata": {
    "collapsed": false
   },
   "source": [
    "**Question 3**\n",
    "\n",
    "**Describe what the purpose of a Makefile is:**\n",
    "\n",
    "Makefile defines a graph of the dependence of source files.  \n",
    "\n",
    "**Describe how the code is organized here. Why is this a reasonable structure?**\n",
    "\n",
    "Header file and Source file(You can put them together), make will use c processing and c compiler to compily then to object file; if it defined the dependence of other object files, then C linker will like all of these object file together to create executable file.   \n",
    "his structure is good, because I don't need to read the long source file, I will understand the structure of the program.\n",
    "\n",
    "**Describe what a header file is.**\n",
    "\n",
    "In header file includes all of the types and functions that is defined in source file.\n",
    "\n",
    "**Describe what a source file is.**\n",
    "\n",
    "Source file define the implement of all functions, including main().\n",
    "\n",
    "**Describe what an object file is.**\n",
    "\n",
    "Object file is a compiled file.\n",
    "\n",
    "**Describe what compiling is.**\n",
    "\n",
    "Compiling is interplate C programing to binary language that the machine is recogoniziable.\n",
    "\n",
    "**Describe what linking is.**\n",
    "\n",
    "Here link is combine the object file together, which defined the dependence in Makefile.\n"
   ]
  }
 ],
 "metadata": {
  "kernelspec": {
   "display_name": "Python 2 (SageMath)",
   "language": "python",
   "name": "python2"
  },
  "language_info": {
   "codemirror_mode": {
    "name": "ipython",
    "version": 2
   },
   "file_extension": ".py",
   "mimetype": "text/x-python",
   "name": "python",
   "nbconvert_exporter": "python",
   "pygments_lexer": "ipython2",
   "version": "2.7.10"
  }
 },
 "nbformat": 4,
 "nbformat_minor": 0
}
