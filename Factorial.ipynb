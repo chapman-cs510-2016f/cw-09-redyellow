{
 "cells": [
  {
   "cell_type": "markdown",
   "metadata": {},
   "source": [
    "In factorial, it will input an argument n, then do these steps:\n",
    "1. set n to a variable fac; \n",
    "2. check n greater than 0 or not, if it is greater than 0, doing the next step:\n",
    "3. n=n-1; \n",
    "4. set fac=fac*n;\n",
    "5. keep loop from step 3 to step 4, until n=0, then quit the loop.\n",
    "6. return the variable fac. "
   ]
  },
  {
   "cell_type": "markdown",
   "metadata": {},
   "source": [
    "**Describe at least two problems with the current function definition.**\n",
    "\n",
    "Problem1. when n=1, it will get into the while loop, because 1>0. Then n=n-1, which is 0. then fac*0 will equal to 0. So n-- should be after fac *= n;\n",
    "\n",
    "Problem2. when n is 0 fac should be initialized to 0; when n > 0, n should be initialized to 1; otherwise n should be -1."
   ]
  }
 ],
 "metadata": {
  "kernelspec": {
   "display_name": "Python 2 (SageMath)",
   "language": "python",
   "name": "python2"
  },
  "language_info": {
   "codemirror_mode": {
    "name": "ipython",
    "version": 2
   },
   "file_extension": ".py",
   "mimetype": "text/x-python",
   "name": "python",
   "nbconvert_exporter": "python",
   "pygments_lexer": "ipython2",
   "version": "2.7.10"
  }
 },
 "nbformat": 4,
 "nbformat_minor": 0
}
