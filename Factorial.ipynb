{
 "cells": [
  {
   "cell_type": "markdown",
   "metadata": {},
   "source": [
    "In the C function int factorial(int n), the first step is to input an argument n, then follow the steps below:\n",
    "1. set n equal to a variable fac; \n",
    "2. check whether n is greater than 0 or not; if n is greater than 0, go to the next step;\n",
    "3. n=n-1; \n",
    "4. set fac=fac*n;\n",
    "5. keep looping step 3 and step 4 until n=0, and then exit the loop;\n",
    "6. return the value of variable fac. "
   ]
  },
  {
   "cell_type": "markdown",
   "metadata": {},
   "source": [
    "**Describe at least two problems with the current function definition.**\n",
    "\n",
    "Problem1. when n=1, it will get into the while loop, because 1>0. Then n=n-1, which is 0. Then fac*0 will equal to 0. So n-- should be after fac *= n;\n",
    "\n",
    "Problem2. when n >= 0, n should be initialized to 1; otherwise n should be -1(Means error)."
   ]
  },
  {
   "cell_type": "markdown",
   "metadata": {},
   "source": [
    "I agree with Helen's points.\n",
    "\n",
    "First problem is by putting n-- before fac*=n would return all the factorial as zero.  Since when the while loop runs its last round, n=1 and n-- would give n=0, which makes the fianl value for factorial zero.  So n-- should go after fac*=n.\n",
    "\n",
    "Second, after switching the sequence of n-- and fac*=n, it makes no sense to set the initial value fac=n and then do the first round while loop as fac=fac*n=n*n.  So the initial value of fac should be one."
   ]
  }
 ],
 "metadata": {
  "kernelspec": {
   "display_name": "Python 2 (SageMath)",
   "language": "python",
   "name": "python2"
  },
  "language_info": {
   "codemirror_mode": {
    "name": "ipython",
    "version": 2
   },
   "file_extension": ".py",
   "mimetype": "text/x-python",
   "name": "python",
   "nbconvert_exporter": "python",
   "pygments_lexer": "ipython2",
   "version": "2.7.10"
  }
 },
 "nbformat": 4,
 "nbformat_minor": 0
}
